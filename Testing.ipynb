{
 "cells": [
  {
   "cell_type": "code",
   "execution_count": 50,
   "metadata": {},
   "outputs": [
    {
     "data": {
      "text/plain": [
       "3"
      ]
     },
     "execution_count": 50,
     "metadata": {},
     "output_type": "execute_result"
    }
   ],
   "source": [
    "results = {}\n",
    "\n",
    "def levenshtein_distance(s1, s2):\n",
    "\n",
    "    if (s1,s2) in results:\n",
    "        return results[s1,s2]\n",
    "    else:\n",
    "        if len(s1) == 0:\n",
    "            return len(s2)\n",
    "        if len(s2) == 0:\n",
    "            return len(s1)\n",
    "\n",
    "        if s1[0] == s2[0]:\n",
    "            return levenshtein_distance(s1[1:], s2[1:])\n",
    "\n",
    "        method1 = 1 + levenshtein_distance(s1[1:], s2[1:])\n",
    "        # repeats until character in a and b doesnt match, and find how many characters needs to be replaced\n",
    "        method2 = 1 + levenshtein_distance(s1, s2[1:])\n",
    "        # adds characters in front of b to match a, or remove character infront of a to match b\n",
    "        method3 = 1 + levenshtein_distance(s1[1:], s2)\n",
    "        # adds characters in front of a to match b, or remove character infront of b to match c\n",
    "        min_cost = min(method1, method2, method3)\n",
    "        results[s1,s2] = min_cost\n",
    "        return min_cost\n",
    "a = \"kitten\"\n",
    "b = \"sitting\"\n",
    "levenshtein_distance(a, b)"
   ]
  },
  {
   "cell_type": "code",
   "execution_count": 1,
   "metadata": {},
   "outputs": [],
   "source": [
    "def mutate_text(message, prob_ins=0.05, prob_del=0.05, prob_sub=0.05):\n",
    "    \"\"\"Given a Message and independent probabilities for each mutation type,\n",
    "    return a length 1 tuple containing the mutated Message.\n",
    "\n",
    "    Possible mutations are:\n",
    "        Insertion:      Insert a random (legal) character somewhere into\n",
    "                        the Message\n",
    "        Deletion:       Delete one of the characters from the Message\n",
    "        Substitution:   Replace one character of the Message with a random\n",
    "                        (legal) character\n",
    "    \"\"\"\n",
    "\n",
    "    if random.random() < prob_ins:    #inserting a character\n",
    "        place = random.randint(0, len(message)-1)\n",
    "        message.insert(place, random.choice(VALID_CHARS))\n",
    "    if random.random() < prob_del:    #deleting a character\n",
    "        place = random.randint(0, len(message)-1)\n",
    "        message.remove(message[place])\n",
    "    if random.random() < prob_sub:    #subsituting a character\n",
    "        place = random.randint(0, len(message)-1)\n",
    "        message[place] = random.choice(VALID_CHARS)\n",
    "\n",
    "    return (message,)   # Length 1 tuple, required by DEAP"
   ]
  },
  {
   "cell_type": "code",
   "execution_count": 2,
   "metadata": {},
   "outputs": [],
   "source": [
    "def two_point_crossover(a, b):\n",
    "    \"\"\"\n",
    "    Return tuple of crossed parent strings a, b\n",
    "    >>> two_point_crossover(\"ABCDEF\", \"UVWXYZ\")\n",
    "    (\"ABWXYF\", \"UVCDEZ\")\n",
    "    \"\"\"\n",
    "    max_cross_length = min(len(a), len(b))\n",
    "    pt1 = random.randint(1, max_cross_length)\n",
    "    pt2 = random.randint(1, max_cross_length - 1)\n",
    "\n",
    "    a_new = a[:pt1] + b[pt1:pt2] + a[pt2:]\n",
    "    b_new = b[:pt1] + a[pt1:pt2] + b[pt2:]\n",
    "\n",
    "    return (Message(\"\".join(a_new)), Message(\"\".join(b_new)))"
   ]
  },
  {
   "cell_type": "code",
   "execution_count": null,
   "metadata": {},
   "outputs": [],
   "source": []
  }
 ],
 "metadata": {
  "kernelspec": {
   "display_name": "Python 3",
   "language": "python",
   "name": "python3"
  },
  "language_info": {
   "codemirror_mode": {
    "name": "ipython",
    "version": 3
   },
   "file_extension": ".py",
   "mimetype": "text/x-python",
   "name": "python",
   "nbconvert_exporter": "python",
   "pygments_lexer": "ipython3",
   "version": "3.7.4"
  }
 },
 "nbformat": 4,
 "nbformat_minor": 2
}
